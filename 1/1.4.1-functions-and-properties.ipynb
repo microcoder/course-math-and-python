{
 "cells": [
  {
   "cell_type": "markdown",
   "metadata": {},
   "source": [
    "# Функции и их свойства\n",
    "\n",
    "## Определение функции\n",
    "\n",
    "$$ x \\to f(x) $$\n",
    "\n",
    "**Функция** - это некоторое соответствие между различными значениями аргумента `x` и значениями (результат) функции `f(x)`. При этом каждому значению аргумента соответствует только одно значение (результат) функции `f(x)`.\n",
    "\n",
    "В начале мы будем знакомится с функциями действительного переменного, то есть, аргументы у этих функций будут просто действительными ([вещественными, реальными](http://www.cleverstudents.ru/numbers/real_numbers.html)) числами.\n",
    "\n",
    "Подробнее о числах:\n",
    "* [Натуральное число](http://www.cleverstudents.ru/numbers/natural_numbers.html)\n",
    "* [Целое число](http://www.cleverstudents.ru/numbers/integers.html)\n",
    "* [Дробное число](http://www.cleverstudents.ru/numbers/common_fractions.html)\n",
    "* [Действительное (вещественное, реальное) число](http://www.cleverstudents.ru/numbers/real_numbers.html)\n",
    "\n",
    "\n",
    "## Области функции\n",
    "\n",
    "#### D(f) - Область определения функции (Domain)\n",
    "\n",
    "Область определения - это те значения `x`, для которых функция задана.\n",
    "\n",
    "или:\n",
    "\n",
    "Область определения - множество значений `х`, при подставлении которых в уравнение получаем область значений `у`.\n",
    "\n",
    "Например, если мы рассматриваем функцию: `f(x) = 1 / x`, то понятно, что когда `x = 0` эта функция не определена (divide by zero), значит `0` не входит в *область определения*.\n",
    "\n",
    "#### E(f) или R(f) - Область значений функции (Range)\n",
    "\n",
    "Область значений - это все значения, которые функция может принимать.\n",
    "\n",
    "Например, функция `f(x) = 1 / (x - 1)`:\n",
    "\n",
    "* **Область определения** (определение функции) - все действительные числа без единицы (если 1, то функция = divide by zero)\n",
    "* **Область значений** (аргументы функции) - все действительные числа.\n",
    "\n",
    "### Примеры\n",
    "\n",
    "$$ f(x) = \\frac{1}{x-1}, D(f) = R\\{1\\}, E(f) = R\\{0\\} $$\n",
    "\n",
    "* **D(f) область определения** - все действительные числа, кроме единицы: **R\\{1}** (если 1, то функция не определена - divide by zero)\n",
    "* **E(f) или R(f) область значений** - все действительные числа, кроме ноля: **R\\{0}** (если 0, то функция = -1)\n",
    "\n",
    "$$ f(x) = 2^x, D(f) = R, E(f) = (0, +\\infty) $$\n",
    "\n",
    "* **D(f) область определения** - все действительные числа: **R**\n",
    "* **E(f) или R(f) область значений** - от 0 до плюс бесконечности не включая 0: **(0, +&#x221e;)**\n",
    "\n",
    "## График функции\n",
    "\n",
    "Для того, чтобы как-то визуализировать функцию одного переменного, люди придумали строить графики. То есть, мы можем ввести некоторую систему координат на плоскости, `x` и `y`, и построить некоторую кривую, у которой каждая точка будет иметь некоторую координату `x` и координату `y` равную `f(x)`, где `f` - это функция для которой мы строим график. Например, `y = f(x) = x^2`, где `x`, допустим, равен от `1` до `10`:"
   ]
  },
  {
   "cell_type": "code",
   "execution_count": 58,
   "metadata": {
    "scrolled": false
   },
   "outputs": [
    {
     "data": {
      "image/png": "[encoded data removed]",
      "text/plain": [
       "<matplotlib.figure.Figure at 0x7f24c3d62160>"
      ]
     },
     "metadata": {},
     "output_type": "display_data"
    }
   ],
   "source": [
    "# https://stackoverflow.com/questions/21457571/plot-doesnt-work-on-ipython-notebook\n",
    "%matplotlib inline\n",
    "\n",
    "import matplotlib.pyplot as plt\n",
    "\n",
    "\n",
    "def f(x):\n",
    "    return x**2\n",
    "\n",
    "for x in range(1, 11):\n",
    "    plt.plot(x, f(x), 'b.')"
   ]
  },
  {
   "cell_type": "markdown",
   "metadata": {},
   "source": [
    "$$ f(x) = \\frac{1}{x-1}, D(f) = R\\{1\\}, E(f) = R\\{0\\} $$"
   ]
  },
  {
   "cell_type": "code",
   "execution_count": 54,
   "metadata": {},
   "outputs": [
    {
     "name": "stdout",
     "output_type": "stream",
     "text": [
      "[2, 3, 4, 5, 6, 7, 8, 9, 10]\n",
      "[1.0, 0.5, 0.3333333333333333, 0.25, 0.2, 0.16666666666666666, 0.14285714285714285, 0.125, 0.1111111111111111]\n"
     ]
    },
    {
     "data": {
      "text/plain": [
       "[<matplotlib.lines.Line2D at 0x7f24c3d45a90>]"
      ]
     },
     "execution_count": 54,
     "metadata": {},
     "output_type": "execute_result"
    },
    {
     "data": {
      "image/png": "[encoded data removed]",
      "text/plain": [
       "<matplotlib.figure.Figure at 0x7f24c3e28588>"
      ]
     },
     "metadata": {},
     "output_type": "display_data"
    }
   ],
   "source": [
    "# https://stackoverflow.com/questions/21457571/plot-doesnt-work-on-ipython-notebook\n",
    "%matplotlib inline\n",
    "\n",
    "import matplotlib.pyplot as plt\n",
    "\n",
    "\n",
    "def f(x):\n",
    "    return 1 / (x - 1)\n",
    "\n",
    "\n",
    "x = list(range(2, 11))\n",
    "y = [ f(x) for x in x ]\n",
    "\n",
    "print(x)\n",
    "print(y)\n",
    "\n",
    "plt.plot(x, y, 'b.')"
   ]
  },
  {
   "cell_type": "markdown",
   "metadata": {},
   "source": [
    "## Непрерывность\n",
    "\n",
    "Не все графики бывают гладкими, на этом слайде мы видим график у которого есть разрывы в точках `a` и `b`:\n",
    "\n",
    "![title](img/continuity.png)\n",
    "\n",
    "**Непрерывность** — это свойство, которое в бытовом смысле можно просто прокомментировать как возможность нарисовать график функции одним росчерком.\n",
    "\n",
    "## Разрывы\n",
    "\n",
    "Разрывы бывают самые разные, например, просто может быть так, что одна точка немножко выбивается из наших ожиданий и если бы мы могли функцию в этой точке поменять и переставить ее в то место, где мы хотели бы, наверное, ее видеть, то функция снова станет непрерывной.\n",
    "\n",
    "![title](img/gaps.png)\n",
    "\n",
    "Бывают разрывы, похожие на внезапные скачки значения функции. В этом случае, конечно, уже нельзя так просто сделать функцию непрерывной:\n",
    "\n",
    "![title](img/gaps2.png)\n",
    "\n",
    "А бывают разрывы, связанные с тем, что у функции есть асимптота. Асимптота — это прямая, к которой функция может приближаться очень близко, но при этом её не будет пересекать. Например, такая прямая будет для функции `y = 1 / ( x − 1)`.\n",
    "\n",
    "![title](img/gaps3.png)\n",
    "\n",
    "В то же время не надо думать, что все асимптоты должны быть направлены обязательно вертикально, бывают и наклонные асимптоты, что иллюстрирует график на слайде:\n",
    "\n",
    "![title](img/gaps4.png)\n",
    "\n",
    "## Неформальный взгляд на гладкость\n",
    "\n",
    "Функции бывают гладкими. У графика функции могут быть не только разрывы, но и какие-то углы. И вот гладкость — это отсутствие углов. То есть, на рисунке, есть две точки, в которых функция не гладкая (с острыми углами):\n",
    "\n",
    "![title](img/smoothness.png)\n",
    "\n",
    " Можно быть даже так, что функция не будет гладкой ни в одной точке:\n",
    " \n",
    " ![title](img/smoothness2.png)\n",
    " \n",
    " \n",
    " ## Резюме\n",
    " \n",
    " Мы познакомились с вами с:\n",
    " \n",
    " * Понятие функции\n",
    " * Непрерывность функции, разрывы\n",
    " * Гладкость функции"
   ]
  }
 ],
 "metadata": {
  "kernelspec": {
   "display_name": "Python 3",
   "language": "python",
   "name": "python3"
  },
  "language_info": {
   "codemirror_mode": {
    "name": "ipython",
    "version": 3
   },
   "file_extension": ".py",
   "mimetype": "text/x-python",
   "name": "python",
   "nbconvert_exporter": "python",
   "pygments_lexer": "ipython3",
   "version": "3.6.3"
  }
 },
 "nbformat": 4,
 "nbformat_minor": 2
}
