{
 "cells": [
  {
   "cell_type": "markdown",
   "metadata": {},
   "source": [
    "# Геометрический смысл производной\n",
    "\n",
    "## Уравнение прямой\n",
    "\n",
    "Вспомним уравнение прямой:\n",
    "\n",
    "![title](img/equation_direct.png)\n",
    "\n",
    "\n",
    "$$ y = k * x + b $$\n",
    "\n",
    "Где `k` - это угловой коэффициент, то есть тангенс угла наклона или угла между прямой и осью `ox`.\n",
    "\n",
    "Для любой точки `M` прямой:\n",
    "\n",
    "$$ y = k * x, y_0 = k * x_0 + b $$\n",
    "\n",
    "По определению:\n",
    "\n",
    "$$ tg \\alpha = \\frac{h}{l} = \\frac{y_0}{x_0} $$\n",
    "\n",
    "Значит:\n",
    "\n",
    "$$ k = tg \\alpha $$\n",
    "\n",
    "\n",
    "## Секущая\n",
    "\n",
    "Секущая - это прямая, которая проходит через какие-то две точки на графике.\n",
    "\n",
    "![title](img/secant.png)\n",
    "\n",
    "Уравнение секущей:\n",
    "\n",
    "$$ y(x) = \\frac{\\Delta y}{\\Delta x} * (x - x_0) + f(x_0) $$\n",
    "\n",
    "\n",
    "## Касательная\n",
    "\n",
    "![title](img/tangent.png)\n",
    "\n",
    "Уравнение касательной:\n",
    "\n",
    "$$ y(x) = f(x_0) * (x - x_0) + f(x_0) $$\n",
    "\n",
    "\n",
    "## Негладкие функции\n",
    "\n",
    "Если производная резко меняет свое значение в некоторой точке - меняется и направление касательной, получается излом.  \n",
    "Поэтому гладкие функции (нестрого - \"без изломов\") - функции с непрерывной производной.\n",
    "\n",
    "\n",
    "## Резюме\n",
    "\n",
    "* Производная - угловой коэффициент касательной к графику функции\n",
    "* Гладкие функции - функции с непрерывной производной\n",
    "\n",
    "---\n",
    "\n",
    "# Дополнительно\n",
    "\n",
    "Более подробно о геометрическом смысле производной можно получить знания на первом семинаре по [этой ссылке](https://stepik.org/lesson/57431/step/1?unit=35906). Ниже изложен первый семинар:\n",
    "\n",
    "## Геометрический смысл производной\n",
    "\n",
    "**Производная** характеризует скорость роста функции. Также, иногда говорят, что геометрический смысл **производной** - это угол наклона касательно к графику функции в точке:\n",
    "\n",
    "<img src=\"img/derivative4.png\" width=\"300\">\n",
    "\n",
    "Давайте посмотрим на график и обратим внимание на то, что в точке `x0` график касательной, если он характеризуется уравнением `g(x) = a * x + b`, то производная будет равна коэффициенту `f(x0) = a`, который характеризует угол `a`, угол наклона этой прямой. При этом, коэффициент `b` довольно просто найти, это просто разность - `b = f(x0) - a * x`:\n",
    "\n",
    "<img src=\"img/derivative5.png\" width=\"400\">\n",
    "\n",
    "Пример. Зададим функции `f(x)` и `g(x)`:"
   ]
  },
  {
   "cell_type": "code",
   "execution_count": 2,
   "metadata": {},
   "outputs": [],
   "source": [
    "def f(x):\n",
    "    return x**2\n",
    "\n",
    "def g(x):\n",
    "    return a * x + b"
   ]
  },
  {
   "cell_type": "code",
   "execution_count": 3,
   "metadata": {},
   "outputs": [
    {
     "name": "stdout",
     "output_type": "stream",
     "text": [
      "2.000099999999172\n",
      "-1.000099999999172\n"
     ]
    }
   ],
   "source": [
    "x0 = 1\n",
    "dx = 0.0001\n",
    "\n",
    "a = (f(x0 + dx) - f(x0)) / dx # Значение производной\n",
    "print(a)\n",
    "\n",
    "b = f(x0) - a * x0\n",
    "print(b)"
   ]
  },
  {
   "cell_type": "markdown",
   "metadata": {},
   "source": [
    "Теперь построим график:"
   ]
  },
  {
   "cell_type": "code",
   "execution_count": 4,
   "metadata": {},
   "outputs": [
    {
     "name": "stdout",
     "output_type": "stream",
     "text": [
      "[-1.   -0.99 -0.98 -0.97 -0.96] ... [ 1.95  1.96  1.97  1.98  1.99]\n"
     ]
    },
    {
     "data": {
      "image/png": "[encoded data removed]",
      "text/plain": [
       "<matplotlib.figure.Figure at 0x7f63a1278898>"
      ]
     },
     "metadata": {},
     "output_type": "display_data"
    }
   ],
   "source": [
    "# https://stackoverflow.com/questions/21457571/plot-doesnt-work-on-ipython-notebook\n",
    "%matplotlib inline\n",
    "\n",
    "import numpy as np\n",
    "import matplotlib.pyplot as plt\n",
    "\n",
    "# Задаем интервал на котором будем строить график.\n",
    "# Функция arange() генерирует список значений от -1 до 2 с интервалом 0.01\n",
    "x = np.arange(-1, 2, 0.01)\n",
    "\n",
    "print(x[0:5], '...', x[len(x)-5:])\n",
    "\n",
    "plt.plot(x, f(x))\n",
    "plt.plot(x, g(x))\n",
    "plt.show()"
   ]
  },
  {
   "cell_type": "markdown",
   "metadata": {},
   "source": [
    "Заметно, что в точке `x = 1` и `y = 1` у нас происходит касание к графику функции, при этом найденные коэффициенты `a` и `b` действительно характеризуют эту прямую. Увеличим шаг `x` для рассмотрения касательной в точке `x,y = 1`:"
   ]
  },
  {
   "cell_type": "code",
   "execution_count": 5,
   "metadata": {},
   "outputs": [
    {
     "data": {
      "image/png": "[encoded data removed]",
      "text/plain": [
       "<matplotlib.figure.Figure at 0x7f639f0496d8>"
      ]
     },
     "metadata": {},
     "output_type": "display_data"
    }
   ],
   "source": [
    "x = np.arange(-1, 2, 0.5)\n",
    "\n",
    "plt.plot(x, f(x))\n",
    "plt.plot(x, g(x))\n",
    "plt.show()"
   ]
  }
 ],
 "metadata": {
  "kernelspec": {
   "display_name": "Python 3",
   "language": "python",
   "name": "python3"
  },
  "language_info": {
   "codemirror_mode": {
    "name": "ipython",
    "version": 3
   },
   "file_extension": ".py",
   "mimetype": "text/x-python",
   "name": "python",
   "nbconvert_exporter": "python",
   "pygments_lexer": "ipython3",
   "version": "3.6.3"
  }
 },
 "nbformat": 4,
 "nbformat_minor": 2
}
