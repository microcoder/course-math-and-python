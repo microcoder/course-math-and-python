{
 "cells": [
  {
   "cell_type": "markdown",
   "metadata": {},
   "source": [
    "# Предел и производная\n",
    "\n",
    "## Неформальное представление о пределе\n",
    "\n",
    "Рассмотрим некоторую функцию:\n",
    "\n",
    "$$ f(x) = (1 + x)^\\frac{1}{x} $$\n",
    "\n",
    "При `x = 0` функция `f(x)` не определена (divide by zero), но попробуем понять, каким будет её значение, если `x` будет приближаться к нулю. Например, возьмем значение `x = 0.1`:"
   ]
  },
  {
   "cell_type": "code",
   "execution_count": 1,
   "metadata": {},
   "outputs": [
    {
     "name": "stdout",
     "output_type": "stream",
     "text": [
      "2.5937424601000023\n"
     ]
    }
   ],
   "source": [
    "x = 0.1\n",
    "\n",
    "def f(x):\n",
    "    return (x + 1)**(1/x)\n",
    "\n",
    "print(f(x))"
   ]
  },
  {
   "cell_type": "markdown",
   "metadata": {},
   "source": [
    "Затем, возьмем значение `x = 0.01`:"
   ]
  },
  {
   "cell_type": "code",
   "execution_count": 2,
   "metadata": {},
   "outputs": [
    {
     "name": "stdout",
     "output_type": "stream",
     "text": [
      "2.7048138294215285\n"
     ]
    }
   ],
   "source": [
    "print(f(0.01))"
   ]
  },
  {
   "cell_type": "markdown",
   "metadata": {},
   "source": [
    "Возьмем еще ближе значение `x` к нулю:"
   ]
  },
  {
   "cell_type": "code",
   "execution_count": 3,
   "metadata": {},
   "outputs": [
    {
     "name": "stdout",
     "output_type": "stream",
     "text": [
      "2.7169239322355936\n"
     ]
    }
   ],
   "source": [
    "print(f(0.001))"
   ]
  },
  {
   "cell_type": "markdown",
   "metadata": {},
   "source": [
    "и еще:"
   ]
  },
  {
   "cell_type": "code",
   "execution_count": 4,
   "metadata": {},
   "outputs": [
    {
     "name": "stdout",
     "output_type": "stream",
     "text": [
      "2.7181459268249255\n"
     ]
    }
   ],
   "source": [
    "print(f(0.0001))"
   ]
  },
  {
   "cell_type": "markdown",
   "metadata": {},
   "source": [
    "Мы видим, что значение функции приближается к некоторой величине. Иммено эта величина и будет пределом этой функции при `x` стремящегося к нулю.\n",
    "\n",
    "$$ \\lim_{x \\to 0} (1 + x)^\\frac{1}{x} = 2.718... $$\n",
    "\n",
    "\n",
    "## Бесконечный предел\n",
    "\n",
    "Рассмотрим другой пример, функция `1 / x`:\n",
    "\n",
    "$$ f(x) = \\frac{1}{x} $$\n",
    "\n",
    "* Если `x = 0.1`, тогда `f(x) = 10`\n",
    "* Если `x = 0.01`, тогда `f(x) = 100`\n",
    "* Если `x = 0.001`, тогда `f(x) = 1000`\n",
    "* Если `x = 0.0001`, тогда `f(x) = 10000`\n",
    "* и так далее...\n",
    "\n",
    "В этом случае видим, что функция просто неограниченно растет при приближении `x` к нулю. Это означает, что предел `1 / x` при `x` стремящемся к `0` равен бесконечности:\n",
    "\n",
    "$$ \\lim_{x \\to 0} \\frac{1}{x} = \\infty $$\n",
    "\n",
    "\n",
    "## Непрерывность и предел\n",
    "\n",
    "Понятие предела позволяет формулизовать понятие непрерывности. Функция `f(x)` непрерывна в точке `x = a`тогда и только тогда, когда знак предела и знак функции можно переставить местами.\n",
    "\n",
    "$$ \\lim_{x \\to a} f(x) = f(\\lim_{x \\to a} x) = f(a) $$\n",
    "\n",
    "Например, рассмотрим функцию `1 / (x - 1)`. При `x` стремящимся к `a` её предел будет равен `1 / (a - 1)`, если `a != 1`:\n",
    "\n",
    "$$ \\lim_{x \\to a} \\frac{1}{x - 1} = \\frac{1}{a - 1}, a \\neq 1 $$\n",
    "\n",
    "Но если, `a = 1`, то предел этой функции будет бесконечным:\n",
    "\n",
    "$$ \\lim_{x \\to 1} \\frac{1}{x - 1} = \\infty $$\n",
    "\n",
    "\n",
    "## Скорость роста функции\n",
    "\n",
    "Понятие предела, позволяет ввести другое полезное понятие - понятие производной. Для начала давайте рассмотрим линейную функцию:\n",
    "\n",
    "![title](img/growth.png)\n",
    "\n",
    "Линейная функция имеет понятное уравнение `f(x) = k * x + b`. График линейной функции - прямая. Для неё понятно, что при изменении `x` на `Δx`, то `y` будет изменяться на (`k` умножить на `Δx`). То есть, величина `k` — это некоторая скорость роста функции:\n",
    "\n",
    "$$ k = \\frac{f(x + \\Delta x) - f(x)}{\\Delta x} $$\n",
    "\n",
    "\n",
    "## Производная\n",
    "\n",
    "$$ f(x) = \\lim_{\\Delta x \\to 0} \\frac{f(x + \\Delta x) - f(x)}{\\Delta x} $$\n",
    "\n",
    "\n",
    "## Гладкие функции\n",
    "\n",
    "Это функции у которых есть непрерывная производная.\n",
    "\n",
    "## Резюме\n",
    "\n",
    "* Предел функции `f(x)` при `x` стремящемся к `a` (очень неформально) - это величина, к которой стремится `f(x)`, если `x` стремится к `a`.\n",
    "* Предел позволяет сформулировать свойство непрерывности функции в точке.\n",
    "* Производная - мгновенная скорость роста функции, определяется с помощью понятия предела\n",
    "\n",
    "---\n",
    "\n",
    "# Дополнительно\n",
    "\n",
    "Более подробно о пределах и производных функции можно получить знания на втором семинаре по [этой ссылке](https://stepik.org/lesson/57431/step/1?unit=35906). Ниже изложение второго семинара:\n",
    "\n",
    "## Предел функции\n",
    "\n",
    "**Понятие предела** - это некое значение, к которому стремится функция `f(x)` по мере приближения аргумента `x` к какому-то числу (к какой-то точке на координатной плоскости).\n",
    "\n",
    "Решим задачу, чтобы лучше это понять:\n",
    "\n",
    "$$ f(x) = \\frac{e_x - 1}{x}, \\lim_{x \\to 0} f(x) = ? $$\n",
    "\n",
    "Очевидно, что при `x = 0` эта функция не определена (divide by zero). Запишим эту функцию в Python-нотации:"
   ]
  },
  {
   "cell_type": "code",
   "execution_count": 12,
   "metadata": {},
   "outputs": [],
   "source": [
    "from math import exp # Импортируем функцию экспоненты из модуля math\n",
    "\n",
    "def f(x):\n",
    "    return (exp(x) - 1) / x"
   ]
  },
  {
   "cell_type": "markdown",
   "metadata": {},
   "source": [
    "Легко убедится в том, что по мере приближения к точке `x = 0`, во всех остальных точках, функция определена. Мы будем искать значение у функции `f(x)` в окрестностях к некоторой точке `x0`:"
   ]
  },
  {
   "cell_type": "code",
   "execution_count": 15,
   "metadata": {},
   "outputs": [
    {
     "name": "stdout",
     "output_type": "stream",
     "text": [
      "1.718281828459045\n",
      "1.0517091807564771\n",
      "1.005016708416795\n",
      "1.0005001667083846\n",
      "1.000050001667141\n",
      "1.000005000006965\n"
     ]
    }
   ],
   "source": [
    "x0 = 0\n",
    "delta_x = [1, 0.1, 0.01, 0.001, 0.0001, 0.00001] # Список окрестностей\n",
    "\n",
    "for dx in delta_x:\n",
    "    print(f(x0 + dx))"
   ]
  },
  {
   "cell_type": "markdown",
   "metadata": {},
   "source": [
    "Можно обратить внимание, что по мере уменьшения значения `delta_x`, значение функции постепенно уменьшается (приближается) к 1 (единице). В данном случае, **предел функции** `f(x)` в точке `x = 0` равен 1 (единице), хотя сама функция не определена в этой точке (divide by zero). Легко убедится, что мы нашли **предел** справа, то есть при `x` больше, чем нулевое. Однако, если мы найдем предел слева, при `x` меньше, чем нулевое, то он тоже будет постепенно стремится к 1 (единице):"
   ]
  },
  {
   "cell_type": "code",
   "execution_count": 11,
   "metadata": {},
   "outputs": [
    {
     "name": "stdout",
     "output_type": "stream",
     "text": [
      "0.6321205588285577\n",
      "0.9516258196404048\n",
      "0.9950166250831893\n",
      "0.9995001666249781\n",
      "0.9999500016666385\n",
      "0.9999950000172396\n"
     ]
    }
   ],
   "source": [
    "for dx in delta_x:\n",
    "    print(f(x0 - dx))"
   ]
  },
  {
   "cell_type": "markdown",
   "metadata": {},
   "source": [
    "Такая ситуация наблюдается не всегда, некоторые функции могут:\n",
    "\n",
    "* Иметь разные значения пределов справа и слева от какой-то точки\n",
    "* Не иметь предела\n",
    "* Иметь как предел, так и значение в точке\n",
    "\n",
    "\n",
    "## Производная функции\n",
    "\n",
    "<img src=\"img/derivative1.png\" width=\"300\">\n",
    "\n",
    "$$ f(x_0) = \\lim_{\\Delta x \\to 0} \\frac{\\Delta f(x_0)}{\\Delta x} = \\lim_{\\Delta x \\to 0} \\frac{f(x_0 + \\Delta x) - f(x_0)}{\\Delta x} $$\n",
    "\n",
    "**Производная** - это отношение приращения функции (по оси `y`) к приращению аргумента (по оси `x`). \n",
    "\n",
    "Например, мы должны взять некую точку `x0` и соседнюю точку `(x0 + delta_x)`:\n",
    "\n",
    "<img src=\"img/derivative2.png\" width=\"300\">\n",
    "\n",
    "Посчитать значение функций в этих двух точках, то есть `f(x0)` и `f(x0 + delta_x)`:\n",
    "\n",
    "<img src=\"img/derivative3.png\" width=\"300\">\n",
    "\n",
    "Затем, найти величину дроби `(f(x0 + delta_x) - f(x0)) / delta_x` и это будет **производная**:\n",
    "\n",
    "$$ \\frac{f(x_0 + \\Delta x) - f(x_0)}{\\Delta x} $$\n",
    "\n",
    "\n",
    "Давайте найдем значение **производной** для какой-нибудь произвольной функции, например для функции:\n",
    "\n",
    "$$ f(x) = x^2 $$"
   ]
  },
  {
   "cell_type": "code",
   "execution_count": 3,
   "metadata": {},
   "outputs": [],
   "source": [
    "def f(x):\n",
    "    return x**2"
   ]
  },
  {
   "cell_type": "markdown",
   "metadata": {},
   "source": [
    "Найдем значения функции в нескольких точках для того, чтобы убедиться, что это действительно квадрат:"
   ]
  },
  {
   "cell_type": "code",
   "execution_count": 4,
   "metadata": {},
   "outputs": [
    {
     "data": {
      "text/plain": [
       "(9, 0, 1, 4)"
      ]
     },
     "execution_count": 4,
     "metadata": {},
     "output_type": "execute_result"
    }
   ],
   "source": [
    "f(-3), f(0), f(1), f(2)"
   ]
  },
  {
   "cell_type": "markdown",
   "metadata": {},
   "source": [
    "Теперь найдем **производную** от этой функции в точке равной `x = 3`:"
   ]
  },
  {
   "cell_type": "code",
   "execution_count": 5,
   "metadata": {},
   "outputs": [
    {
     "name": "stdout",
     "output_type": "stream",
     "text": [
      "7.0\n",
      "6.100000000000012\n",
      "6.009999999999849\n",
      "6.000999999999479\n",
      "6.000100000012054\n",
      "6.000009999951316\n"
     ]
    }
   ],
   "source": [
    "x0 = 3\n",
    "delta_x = [1, 0.1, 0.01, 0.001, 0.0001, 0.00001] # Список окрестностей\n",
    "\n",
    "for dx in delta_x:\n",
    "    print((f(x0 + dx) - f(x0)) / dx) # Находим производную по определению формулы"
   ]
  },
  {
   "cell_type": "markdown",
   "metadata": {},
   "source": [
    "Как мы видим, значения **производной** постепенно стремится к шести."
   ]
  },
  {
   "cell_type": "code",
   "execution_count": 6,
   "metadata": {},
   "outputs": [
    {
     "data": {
      "image/png": "[encoded data removed]",
      "text/plain": [
       "<matplotlib.figure.Figure at 0x7f13657152e8>"
      ]
     },
     "metadata": {},
     "output_type": "display_data"
    }
   ],
   "source": [
    "%matplotlib inline\n",
    "import matplotlib.pyplot as plt\n",
    "\n",
    "x = [ x0 + dx for dx in delta_x ]\n",
    "y = [ (f(x0 + dx) - f(x0)) / dx for dx in delta_x ]\n",
    "\n",
    "plt.plot(x, y, 'b')\n",
    "plt.plot(x, y, 'r.')\n",
    "\n",
    "plt.show()"
   ]
  }
 ],
 "metadata": {
  "kernelspec": {
   "display_name": "Python 3",
   "language": "python",
   "name": "python3"
  },
  "language_info": {
   "codemirror_mode": {
    "name": "ipython",
    "version": 3
   },
   "file_extension": ".py",
   "mimetype": "text/x-python",
   "name": "python",
   "nbconvert_exporter": "python",
   "pygments_lexer": "ipython3",
   "version": "3.6.3"
  }
 },
 "nbformat": 4,
 "nbformat_minor": 2
}
