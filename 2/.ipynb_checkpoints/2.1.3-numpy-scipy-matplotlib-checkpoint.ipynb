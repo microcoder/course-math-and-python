{
 "cells": [
  {
   "cell_type": "markdown",
   "metadata": {},
   "source": [
    "# Первое знакомство NumPy, SciPy и Matplotlib\n",
    "\n",
    "## Numpy\n",
    "\n",
    "Для начала работы с библиотекой ее необходимо импортировать:"
   ]
  },
  {
   "cell_type": "code",
   "execution_count": 1,
   "metadata": {},
   "outputs": [],
   "source": [
    "import numpy as np"
   ]
  },
  {
   "cell_type": "markdown",
   "metadata": {},
   "source": [
    "### Различие типов обычных и numpy массивов\n",
    "\n",
    "Посмотрим, как выглядят массивы в этой библиотеке. Для этого создадим обычный массив (список) и массив numpy:"
   ]
  },
  {
   "cell_type": "code",
   "execution_count": 2,
   "metadata": {},
   "outputs": [
    {
     "name": "stdout",
     "output_type": "stream",
     "text": [
      "<class 'list'> [2, 3, 4, 6]\n",
      "<class 'numpy.ndarray'> [2 3 4 6]\n"
     ]
    }
   ],
   "source": [
    "x = [2, 3, 4, 6]\n",
    "y = np.array(x)\n",
    "\n",
    "print(type(x), x)\n",
    "print(type(y), y)"
   ]
  },
  {
   "cell_type": "markdown",
   "metadata": {},
   "source": [
    "Как мы видим, типы данных разные, выводятся на печать они тоже по разному. Давайте поищем более существенные различия. Попробуем применить обычную операцию среза:"
   ]
  },
  {
   "cell_type": "code",
   "execution_count": 3,
   "metadata": {},
   "outputs": [
    {
     "name": "stdout",
     "output_type": "stream",
     "text": [
      "[3, 4]\n"
     ]
    }
   ],
   "source": [
    "print(x[1:3])"
   ]
  },
  {
   "cell_type": "code",
   "execution_count": 4,
   "metadata": {},
   "outputs": [
    {
     "name": "stdout",
     "output_type": "stream",
     "text": [
      "[3 4]\n"
     ]
    }
   ],
   "source": [
    "print(y[1:3])"
   ]
  },
  {
   "cell_type": "markdown",
   "metadata": {},
   "source": [
    "### Разница в индексации массивов\n",
    "\n",
    "Если мы хотим получить только элементы с индексами 0 и 2, то есть не последовательность, и при этом хотим передать в качестве параметра среза список, то у нас ничего не выйдет для обычного массива:"
   ]
  },
  {
   "cell_type": "code",
   "execution_count": 5,
   "metadata": {},
   "outputs": [
    {
     "ename": "TypeError",
     "evalue": "list indices must be integers or slices, not list",
     "output_type": "error",
     "traceback": [
      "\u001b[0;31m---------------------------------------------------------------------------\u001b[0m",
      "\u001b[0;31mTypeError\u001b[0m                                 Traceback (most recent call last)",
      "\u001b[0;32m<ipython-input-5-6fd130ba5201>\u001b[0m in \u001b[0;36m<module>\u001b[0;34m()\u001b[0m\n\u001b[0;32m----> 1\u001b[0;31m \u001b[0mprint\u001b[0m\u001b[0;34m(\u001b[0m\u001b[0mx\u001b[0m\u001b[0;34m[\u001b[0m\u001b[0;34m[\u001b[0m\u001b[0;36m0\u001b[0m\u001b[0;34m,\u001b[0m \u001b[0;36m2\u001b[0m\u001b[0;34m]\u001b[0m\u001b[0;34m]\u001b[0m\u001b[0;34m)\u001b[0m\u001b[0;34m\u001b[0m\u001b[0m\n\u001b[0m",
      "\u001b[0;31mTypeError\u001b[0m: list indices must be integers or slices, not list"
     ]
    }
   ],
   "source": [
    "print(x[[0, 2]])"
   ]
  },
  {
   "cell_type": "markdown",
   "metadata": {},
   "source": [
    "Но если мы сделаем тоже самое для NumPy массива, то такой запрос отработает успешно:"
   ]
  },
  {
   "cell_type": "code",
   "execution_count": 6,
   "metadata": {},
   "outputs": [
    {
     "name": "stdout",
     "output_type": "stream",
     "text": [
      "[2 4]\n"
     ]
    }
   ],
   "source": [
    "print(y[[0, 2]])"
   ]
  },
  {
   "cell_type": "markdown",
   "metadata": {},
   "source": [
    "Кроме того, есть логическая индексация, то есть можно записать логическое выражение:"
   ]
  },
  {
   "cell_type": "code",
   "execution_count": 7,
   "metadata": {},
   "outputs": [
    {
     "name": "stdout",
     "output_type": "stream",
     "text": [
      "[4 6]\n"
     ]
    }
   ],
   "source": [
    "print(y[y > 3])"
   ]
  },
  {
   "cell_type": "markdown",
   "metadata": {},
   "source": [
    "Если вам хотелось сделать какую-нибудь операцию с каждым элементом массива, например, написав `x * 5`. Но если это сделать с обычным массивом, то значение не умножится на 5, а просто вы пять раз повторите один и тот же массив:"
   ]
  },
  {
   "cell_type": "code",
   "execution_count": 8,
   "metadata": {},
   "outputs": [
    {
     "name": "stdout",
     "output_type": "stream",
     "text": [
      "[2, 3, 4, 6, 2, 3, 4, 6, 2, 3, 4, 6, 2, 3, 4, 6, 2, 3, 4, 6]\n"
     ]
    }
   ],
   "source": [
    "print(x * 5)"
   ]
  },
  {
   "cell_type": "markdown",
   "metadata": {},
   "source": [
    "В NumPy-ских массивах произойдет именно то, что хочется, для каждого элемента выполнится умножение на 5:"
   ]
  },
  {
   "cell_type": "code",
   "execution_count": 9,
   "metadata": {},
   "outputs": [
    {
     "name": "stdout",
     "output_type": "stream",
     "text": [
      "[10 15 20 30]\n"
     ]
    }
   ],
   "source": [
    "print(y * 5)"
   ]
  },
  {
   "cell_type": "markdown",
   "metadata": {},
   "source": [
    "Тоже самое можно делать с другими операциями. Для обычного массива возведение в степень невозможно:"
   ]
  },
  {
   "cell_type": "code",
   "execution_count": 10,
   "metadata": {},
   "outputs": [
    {
     "ename": "TypeError",
     "evalue": "unsupported operand type(s) for ** or pow(): 'list' and 'int'",
     "output_type": "error",
     "traceback": [
      "\u001b[0;31m---------------------------------------------------------------------------\u001b[0m",
      "\u001b[0;31mTypeError\u001b[0m                                 Traceback (most recent call last)",
      "\u001b[0;32m<ipython-input-10-2d3f09e96d2e>\u001b[0m in \u001b[0;36m<module>\u001b[0;34m()\u001b[0m\n\u001b[0;32m----> 1\u001b[0;31m \u001b[0mprint\u001b[0m\u001b[0;34m(\u001b[0m\u001b[0mx\u001b[0m \u001b[0;34m**\u001b[0m \u001b[0;36m2\u001b[0m\u001b[0;34m)\u001b[0m\u001b[0;34m\u001b[0m\u001b[0m\n\u001b[0m",
      "\u001b[0;31mTypeError\u001b[0m: unsupported operand type(s) for ** or pow(): 'list' and 'int'"
     ]
    }
   ],
   "source": [
    "print(x ** 2)"
   ]
  },
  {
   "cell_type": "markdown",
   "metadata": {},
   "source": [
    "А для NumPy-ских массивов каждый элемент возведется в степень:"
   ]
  },
  {
   "cell_type": "code",
   "execution_count": 12,
   "metadata": {},
   "outputs": [
    {
     "name": "stdout",
     "output_type": "stream",
     "text": [
      "[ 4  9 16 36]\n"
     ]
    }
   ],
   "source": [
    "print(y ** 2)"
   ]
  },
  {
   "cell_type": "markdown",
   "metadata": {},
   "source": [
    "В случае многомерных массивов, например двумерных, индексация в NumPy может отличаться. Создадим два двумерных массива:"
   ]
  },
  {
   "cell_type": "code",
   "execution_count": 13,
   "metadata": {},
   "outputs": [],
   "source": [
    "matrix = [[1, 2, 4], [3, 1, 0]]\n",
    "nd_array = np.array(matrix)"
   ]
  },
  {
   "cell_type": "markdown",
   "metadata": {},
   "source": [
    "Обращение к элементам матрицы аналогично в обоих типах массива:"
   ]
  },
  {
   "cell_type": "code",
   "execution_count": 15,
   "metadata": {},
   "outputs": [
    {
     "data": {
      "text/plain": [
       "0"
      ]
     },
     "execution_count": 15,
     "metadata": {},
     "output_type": "execute_result"
    }
   ],
   "source": [
    "matrix[1][2]"
   ]
  },
  {
   "cell_type": "code",
   "execution_count": 16,
   "metadata": {},
   "outputs": [
    {
     "data": {
      "text/plain": [
       "0"
      ]
     },
     "execution_count": 16,
     "metadata": {},
     "output_type": "execute_result"
    }
   ],
   "source": [
    "nd_array[1][2]"
   ]
  },
  {
   "cell_type": "markdown",
   "metadata": {},
   "source": [
    "Но в случае для NumPy массива, можно выполнить запрос немного иначе и результат будет тот же самый:"
   ]
  },
  {
   "cell_type": "code",
   "execution_count": 17,
   "metadata": {},
   "outputs": [
    {
     "data": {
      "text/plain": [
       "0"
      ]
     },
     "execution_count": 17,
     "metadata": {},
     "output_type": "execute_result"
    }
   ],
   "source": [
    "nd_array[1, 2]"
   ]
  },
  {
   "cell_type": "markdown",
   "metadata": {},
   "source": [
    "### Вычисления в NumPy\n",
    "\n",
    "В NumPy есть не только массивы, есть еще много других полезных вещей, и вообще в целом библиотека ориентирована на то, чтобы как-то упростить вам вычисления. Например, существует генератор случайных чисел.\n",
    "\n",
    "Генерация некоторого дробного случайного числа из **равномерного** и **нормального** распределения. О распределениях будет подробнее в части про теорию вероятности:"
   ]
  },
  {
   "cell_type": "code",
   "execution_count": 24,
   "metadata": {},
   "outputs": [
    {
     "data": {
      "text/plain": [
       "0.6951435139150738"
      ]
     },
     "execution_count": 24,
     "metadata": {},
     "output_type": "execute_result"
    }
   ],
   "source": [
    "np.random.rand()"
   ]
  },
  {
   "cell_type": "code",
   "execution_count": 25,
   "metadata": {},
   "outputs": [
    {
     "data": {
      "text/plain": [
       "0.2886642004469477"
      ]
     },
     "execution_count": 25,
     "metadata": {},
     "output_type": "execute_result"
    }
   ],
   "source": [
    "np.random.randn()"
   ]
  },
  {
   "cell_type": "markdown",
   "metadata": {},
   "source": [
    "Мы можем сгенерировать не одно число, а несколько, передав параметр и указав, сколько нам нужно чисел:"
   ]
  },
  {
   "cell_type": "code",
   "execution_count": 26,
   "metadata": {},
   "outputs": [
    {
     "data": {
      "text/plain": [
       "array([-0.31738096, -0.20240307,  0.03424295,  0.10708598])"
      ]
     },
     "execution_count": 26,
     "metadata": {},
     "output_type": "execute_result"
    }
   ],
   "source": [
    "np.random.randn(4)"
   ]
  },
  {
   "cell_type": "markdown",
   "metadata": {},
   "source": [
    "Можно сгенерировать матрицу или более сложный массив:"
   ]
  },
  {
   "cell_type": "code",
   "execution_count": 27,
   "metadata": {},
   "outputs": [
    {
     "data": {
      "text/plain": [
       "array([[-1.45044133,  0.83316639, -0.45248315, -0.12535212, -0.1570139 ],\n",
       "       [ 0.25070186,  0.65390131,  0.77928455,  1.02415653, -0.06763719],\n",
       "       [ 0.84778487, -0.89055091,  0.74471333, -1.67401352,  0.83255127],\n",
       "       [-1.00397735,  0.97001478,  1.30074457, -0.84071679,  0.09413018]])"
      ]
     },
     "execution_count": 27,
     "metadata": {},
     "output_type": "execute_result"
    }
   ],
   "source": [
    "np.random.randn(4, 5)"
   ]
  },
  {
   "cell_type": "markdown",
   "metadata": {},
   "source": [
    "Есть и другие вспомогательные функции в NumPy. Например, аналог функции `range()` метод `arange()` которому мы можем задавать размер шага:"
   ]
  },
  {
   "cell_type": "code",
   "execution_count": 28,
   "metadata": {},
   "outputs": [
    {
     "data": {
      "text/plain": [
       "array([ 0. ,  0.1,  0.2,  0.3,  0.4,  0.5,  0.6,  0.7,  0.8,  0.9,  1. ,\n",
       "        1.1,  1.2,  1.3,  1.4,  1.5,  1.6,  1.7,  1.8,  1.9,  2. ,  2.1,\n",
       "        2.2,  2.3,  2.4,  2.5,  2.6,  2.7,  2.8,  2.9,  3. ,  3.1,  3.2,\n",
       "        3.3,  3.4,  3.5,  3.6,  3.7,  3.8,  3.9,  4. ,  4.1,  4.2,  4.3,\n",
       "        4.4,  4.5,  4.6,  4.7,  4.8,  4.9,  5. ,  5.1,  5.2,  5.3,  5.4,\n",
       "        5.5,  5.6,  5.7,  5.8,  5.9,  6. ,  6.1,  6.2,  6.3,  6.4,  6.5,\n",
       "        6.6,  6.7,  6.8,  6.9,  7. ,  7.1,  7.2,  7.3,  7.4,  7.5,  7.6,\n",
       "        7.7,  7.8,  7.9])"
      ]
     },
     "execution_count": 28,
     "metadata": {},
     "output_type": "execute_result"
    }
   ],
   "source": [
    "np.arange(0, 8, 0.1)"
   ]
  },
  {
   "cell_type": "markdown",
   "metadata": {},
   "source": [
    "Давайте попробуем сделать тоже самое для обычного `range()`:"
   ]
  },
  {
   "cell_type": "code",
   "execution_count": 31,
   "metadata": {},
   "outputs": [
    {
     "ename": "TypeError",
     "evalue": "'float' object cannot be interpreted as an integer",
     "output_type": "error",
     "traceback": [
      "\u001b[0;31m---------------------------------------------------------------------------\u001b[0m",
      "\u001b[0;31mTypeError\u001b[0m                                 Traceback (most recent call last)",
      "\u001b[0;32m<ipython-input-31-31da2eaa7a2a>\u001b[0m in \u001b[0;36m<module>\u001b[0;34m()\u001b[0m\n\u001b[0;32m----> 1\u001b[0;31m \u001b[0mrange\u001b[0m\u001b[0;34m(\u001b[0m\u001b[0;36m0\u001b[0m\u001b[0;34m,\u001b[0m \u001b[0;36m8\u001b[0m\u001b[0;34m,\u001b[0m \u001b[0;36m0.1\u001b[0m\u001b[0;34m)\u001b[0m\u001b[0;34m\u001b[0m\u001b[0m\n\u001b[0m",
      "\u001b[0;31mTypeError\u001b[0m: 'float' object cannot be interpreted as an integer"
     ]
    }
   ],
   "source": [
    "range(0, 8, 0.1)"
   ]
  },
  {
   "cell_type": "markdown",
   "metadata": {},
   "source": [
    "Как мы видим произошла ошибка. Обычный `range()` может принимать шаг только целого числа."
   ]
  },
  {
   "cell_type": "markdown",
   "metadata": {},
   "source": [
    "### Производительность обычных и NumPy массивов\n",
    "\n",
    "Magic-команда `%timeit` ноутбука Jupyter выполняет код несколько раз и замеряет сколько по времени в среднем выполняется код:"
   ]
  },
  {
   "cell_type": "code",
   "execution_count": 34,
   "metadata": {
    "scrolled": true
   },
   "outputs": [
    {
     "name": "stdout",
     "output_type": "stream",
     "text": [
      "203 µs ± 5.37 µs per loop (mean ± std. dev. of 7 runs, 1000 loops each)\n",
      "7.91 µs ± 90.5 ns per loop (mean ± std. dev. of 7 runs, 100000 loops each)\n"
     ]
    }
   ],
   "source": [
    "%timeit list(range(0, 10000))\n",
    "%timeit np.arange(0, 10000)"
   ]
  },
  {
   "cell_type": "markdown",
   "metadata": {},
   "source": [
    "Как мы видим, вариант из NumPy отработал быстрее, за 7.91 микросекунду против 203 микросекунд для обычного `range()`.\n",
    "\n",
    "Таким образом, библиотека NumPy выполняет некоторые вычисления и выполняет это наиболее быстрее, более оптимизированно и поэтому она пользуется такой популярностью.\n",
    "\n",
    "## SciPy\n",
    "\n",
    "SkiPy реализует некоторые более высокоуровневые вещи, то есть, если в NumPy речь идет о том, что у нас есть какие-то матрицы, с ними нужно делать какие-то операции, то в SkiPy речь идет о том, что у нас бывают задачи оптимизации, бывают задачи из линейной алгебры, бывают какие-то более сложные вещи из теории вероятности. И некоторые простые операции из этих разделов нужно тоже уметь делать.\n",
    "\n",
    "### Модуль optimize и метод minimaze()\n",
    "\n",
    "Давайте сначала посмотрим на оптимизацию. Импортируем модуль `optimize` из библиотеки SciPy:"
   ]
  },
  {
   "cell_type": "code",
   "execution_count": 36,
   "metadata": {},
   "outputs": [],
   "source": [
    "from scipy import optimize"
   ]
  },
  {
   "cell_type": "markdown",
   "metadata": {},
   "source": [
    "Сделаем какую-нибудь свою простую функцию, про которую нам понятно, где у неё минимум:"
   ]
  },
  {
   "cell_type": "code",
   "execution_count": 37,
   "metadata": {},
   "outputs": [
    {
     "name": "stdout",
     "output_type": "stream",
     "text": [
      "3.0\n"
     ]
    }
   ],
   "source": [
    "def f(x):\n",
    "    return (x[0] - 3.2) ** 2 + (x[1] - 0.1) ** 2 + 3\n",
    "\n",
    "print(f([3.2, 0.1]))"
   ]
  },
  {
   "cell_type": "markdown",
   "metadata": {},
   "source": [
    "В модуле `optimize` есть метод `minimize()` в который достаточно передать функцию, передать начальное приближение, то есть вектор с которого начнется оптимизационный процесс:"
   ]
  },
  {
   "cell_type": "code",
   "execution_count": 38,
   "metadata": {},
   "outputs": [
    {
     "name": "stdout",
     "output_type": "stream",
     "text": [
      "      fun: 3.0000000000011435\n",
      " hess_inv: array([[ 0.94055055, -0.16183475],\n",
      "       [-0.16183475,  0.55944947]])\n",
      "      jac: array([ -2.05636024e-06,   5.36441803e-07])\n",
      "  message: 'Optimization terminated successfully.'\n",
      "     nfev: 16\n",
      "      nit: 3\n",
      "     njev: 4\n",
      "   status: 0\n",
      "  success: True\n",
      "        x: array([ 3.19999896,  0.10000026])\n"
     ]
    }
   ],
   "source": [
    "x_min = optimize.minimize(f, [5, 5])\n",
    "\n",
    "print(x_min)"
   ]
  },
  {
   "cell_type": "markdown",
   "metadata": {},
   "source": [
    "Мы видим, что значение функции равно трём `fun: 3.0000000000011435` в точке вот с такими координатами - `x: array([ 3.19999896,  0.10000026])`. Если нам надо вывести координаты точки минимума, то можно обратится к полю `x` у полученного объекта:"
   ]
  },
  {
   "cell_type": "code",
   "execution_count": 42,
   "metadata": {},
   "outputs": [
    {
     "name": "stdout",
     "output_type": "stream",
     "text": [
      "[ 3.19999896  0.10000026]\n"
     ]
    }
   ],
   "source": [
    "print(x_min.x)"
   ]
  },
  {
   "cell_type": "markdown",
   "metadata": {},
   "source": [
    "### Модуль linalg (линейная алгебра)\n",
    "\n",
    "В модуле SciPy есть много разных хороших инструментов, в частности есть инструменты для работы с линейной алгеброй. \n",
    "\n",
    "Например, решим простенькую систему уравнений. Импортируем модуль `linalg` из библиотеки SciPy:"
   ]
  },
  {
   "cell_type": "code",
   "execution_count": 43,
   "metadata": {},
   "outputs": [],
   "source": [
    "from scipy import linalg"
   ]
  },
  {
   "cell_type": "markdown",
   "metadata": {},
   "source": [
    "Задаем систему:"
   ]
  },
  {
   "cell_type": "code",
   "execution_count": 44,
   "metadata": {},
   "outputs": [
    {
     "name": "stdout",
     "output_type": "stream",
     "text": [
      "[ 2. -2.  9.]\n"
     ]
    }
   ],
   "source": [
    "a = np.array([[3, 2, 0], [1, -1, 0], [0, 5, 1]])\n",
    "b = np.array([2, 4, -1])\n",
    "\n",
    "x = linalg.solve(a, b)\n",
    "\n",
    "print(x)"
   ]
  },
  {
   "cell_type": "markdown",
   "metadata": {},
   "source": [
    "Заведомо неизвестно, правильный ли мы получили результат. Давайте проверим, умножим матрицу на полученный `x`:"
   ]
  },
  {
   "cell_type": "code",
   "execution_count": 45,
   "metadata": {},
   "outputs": [
    {
     "name": "stdout",
     "output_type": "stream",
     "text": [
      "[ 2.  4. -1.]\n"
     ]
    }
   ],
   "source": [
    "print(np.dot(a, x))"
   ]
  },
  {
   "cell_type": "markdown",
   "metadata": {},
   "source": [
    "Мы получили результат равный массиву `b`.\n",
    "\n",
    "Кроме того, в в модуле `lynalg` есть разные операции для матричных разложений, например, есть сингулярные разложения матрицы, или SVD разложения, о нем мы тоже еще будем говорить подробнее. Оно очень часто используется в анализе данных.  Оказывается, все это можно делать буквально в одну строчку:"
   ]
  },
  {
   "cell_type": "code",
   "execution_count": 48,
   "metadata": {},
   "outputs": [
    {
     "name": "stdout",
     "output_type": "stream",
     "text": [
      "[[-0.69489476 -0.58049918  0.49696078]\n",
      " [ 0.82230338  1.16450323  0.0246738 ]\n",
      " [ 0.08133143  0.31464475 -3.13971156]\n",
      " [ 0.35779892  0.17212635  0.01051633]]\n",
      "(4, 4) (3,) (3, 3)\n",
      "<class 'numpy.ndarray'> <class 'numpy.ndarray'> <class 'numpy.ndarray'>\n"
     ]
    }
   ],
   "source": [
    "X = np.random.randn(4, 3)\n",
    "print(X)\n",
    "\n",
    "U, D, V = linalg.svd(X) # Выполняем разложение на 3 матрицы\n",
    "\n",
    "print(U.shape, D.shape, V.shape)\n",
    "print(type(U), type(D), type(V))"
   ]
  },
  {
   "cell_type": "markdown",
   "metadata": {},
   "source": [
    "## Библиотека Matplotlib\n",
    "\n",
    "Модуль MatPlotLib позволяет очень просто строить графики.\n",
    "\n",
    "Для начала выполним magic-команду Jupyter'а для того, чтобы график встраивался в ноутбук:"
   ]
  },
  {
   "cell_type": "code",
   "execution_count": 49,
   "metadata": {},
   "outputs": [],
   "source": [
    "%matplotlib inline"
   ]
  },
  {
   "cell_type": "markdown",
   "metadata": {},
   "source": [
    "Импортируем модуль `pylab` и вызовим метод `plot()`. Первый аргумент у метода это значения `x`, а второй это значения по `y`:"
   ]
  },
  {
   "cell_type": "code",
   "execution_count": 50,
   "metadata": {},
   "outputs": [
    {
     "data": {
      "image/png": "[encoded data removed]",
      "text/plain": [
       "<matplotlib.figure.Figure at 0x7fa8fa4c6470>"
      ]
     },
     "metadata": {},
     "output_type": "display_data"
    }
   ],
   "source": [
    "from matplotlib import pylab as plt\n",
    "\n",
    "plt.plot([1, 2, 3, 4], [1, 4, 9, 16])\n",
    "plt.show()"
   ]
  },
  {
   "cell_type": "markdown",
   "metadata": {},
   "source": [
    "Еще один пример, график функции $ f(x) = x^3 $:"
   ]
  },
  {
   "cell_type": "code",
   "execution_count": 58,
   "metadata": {},
   "outputs": [
    {
     "data": {
      "image/png": "[encoded data removed]",
      "text/plain": [
       "<matplotlib.figure.Figure at 0x7fa8fa1dbac8>"
      ]
     },
     "metadata": {},
     "output_type": "display_data"
    }
   ],
   "source": [
    "x = np.arange(-10, 10, 0.1)  # Генерируем NumPy массив элементов от -10 до 10 с шагом 0.1\n",
    "y = x ** 3                   # Так как это NumPy массив, то каждый его элемент возведётся в куб\n",
    "\n",
    "plt.plot(x, y)\n",
    "plt.show()"
   ]
  },
  {
   "cell_type": "markdown",
   "metadata": {},
   "source": [
    "И действительно, это похоже на кубическую параболу.\n",
    "\n",
    "## Все вместе\n",
    "\n",
    "Рассмотрим пример, где эти библиотеки используются все вместе."
   ]
  },
  {
   "cell_type": "code",
   "execution_count": 1,
   "metadata": {},
   "outputs": [
    {
     "name": "stdout",
     "output_type": "stream",
     "text": [
      "[0 2 4 6 8]\n",
      "[ 1.          0.51341712  0.26359714  0.13533528  0.06948345]\n"
     ]
    },
    {
     "data": {
      "image/png": "[encoded data removed]",
      "text/plain": [
       "<matplotlib.figure.Figure at 0x7fdfc0f3e8d0>"
      ]
     },
     "metadata": {},
     "output_type": "display_data"
    }
   ],
   "source": [
    "%matplotlib inline\n",
    "\n",
    "import numpy as np\n",
    "import matplotlib.pylab as plt\n",
    "from scipy import interpolate\n",
    "\n",
    "x = np.arange(0, 10, 2) # Создаем 5 координат по оси X\n",
    "y = np.exp(-x/3.0)      # Некая функция генерирующая число для координаты по оси Y\n",
    "\n",
    "# Посмотрим на сгенерированные координаты:\n",
    "print(x)\n",
    "print(y)\n",
    "\n",
    "# Выполняется интерполяция:\n",
    "f = interpolate.interp1d(x, y, kind='linear')\n",
    "xnew = np.arange(0, 8, 0.1)\n",
    "ynew = f(xnew)\n",
    "\n",
    "# Выводим на график результат:\n",
    "plt.plot(x, y, 'bo', xnew, ynew, 'g-')\n",
    "plt.show()"
   ]
  },
  {
   "cell_type": "markdown",
   "metadata": {},
   "source": [
    "Синие точки - это известные значения функции. Зеленые точки (линия на графике) – это наше приближение. По умолчанию параметр `kind` равен `linear`, то есть, если мы его не будем указывать, результат будет тот же, но его можно задавать, например равным `quadratic`:"
   ]
  },
  {
   "cell_type": "code",
   "execution_count": 4,
   "metadata": {},
   "outputs": [
    {
     "data": {
      "image/png": "[encoded data removed]",
      "text/plain": [
       "<matplotlib.figure.Figure at 0x7fdfe816fe10>"
      ]
     },
     "metadata": {},
     "output_type": "display_data"
    }
   ],
   "source": [
    "f = interpolate.interp1d(x, y, kind='quadratic')\n",
    "xnew = np.arange(0, 8, 0.1)\n",
    "ynew = f(xnew)\n",
    "\n",
    "plt.plot(x, y, 'bo', xnew, ynew, 'g-')\n",
    "plt.show()"
   ]
  },
  {
   "cell_type": "markdown",
   "metadata": {},
   "source": [
    "И вот уже функция получилась более гладкой. Что же произошло? Как сработала интерполяция?\n",
    "\n",
    "Рассмотрим глубже, что произошло с элементами после интерполяции. Исходные массивы `x` от 0 до 8 и `y` с вычисленными значениями по функции передали в метод `interpolate.interp1d`:"
   ]
  },
  {
   "cell_type": "code",
   "execution_count": 5,
   "metadata": {},
   "outputs": [
    {
     "name": "stdout",
     "output_type": "stream",
     "text": [
      "[0 2 4 6 8]\n",
      "[ 1.          0.51341712  0.26359714  0.13533528  0.06948345]\n"
     ]
    }
   ],
   "source": [
    "print(x)\n",
    "print(y)"
   ]
  },
  {
   "cell_type": "markdown",
   "metadata": {},
   "source": [
    "Затем, создали дополнительный массив `xnew` с желаемой частотою интерполяции функции (координат по оси `y`) и получили новый массив `ynew` с вычисленными значениями методом интерполяции по оси `y`:"
   ]
  },
  {
   "cell_type": "code",
   "execution_count": 7,
   "metadata": {},
   "outputs": [
    {
     "name": "stdout",
     "output_type": "stream",
     "text": [
      "[ 1.          0.51341712  0.26359714  0.13533528  0.06948345]\n",
      "[ 1.          0.96961883  0.93987471  0.91076764  0.88229764  0.85446469\n",
      "  0.82726879  0.80070995  0.77478817  0.74950344  0.72485577  0.70084515\n",
      "  0.67747159  0.65473509  0.63263564  0.61117324  0.59034791  0.57015963\n",
      "  0.5506084   0.53169423  0.51341712  0.49577706  0.47877406  0.46240811\n",
      "  0.44667922  0.43158739  0.41713261  0.40331489  0.39013422  0.37759061\n",
      "  0.36568406  0.35423396  0.34305974  0.33216138  0.32153889  0.31119226\n",
      "  0.3011215   0.29132661  0.28180759  0.27256443  0.26359714  0.25490571\n",
      "  0.24649016  0.23835047  0.23048665  0.22289869  0.2155866   0.20855038\n",
      "  0.20179003  0.19530554  0.18909692  0.18309568  0.17723335  0.17150993\n",
      "  0.16592541  0.16047979  0.15517308  0.15000527  0.14497637  0.14008638\n",
      "  0.13533528  0.1307231   0.12624981  0.12191544  0.11771996  0.1136634\n",
      "  0.10974573  0.10596697  0.10232712  0.09882617  0.09546413  0.09224099\n",
      "  0.08915675  0.08621142  0.083405    0.08073748  0.07820886  0.07581915\n",
      "  0.07356835  0.07145645]\n"
     ]
    }
   ],
   "source": [
    "print(y)\n",
    "print(ynew)"
   ]
  },
  {
   "cell_type": "markdown",
   "metadata": {},
   "source": [
    "Не сложно заметить интерполяцию между исходными пятью координатами по оси `y`:\n",
    "\n",
    "<pre>\n",
    "[ 1.          <span style=\"color: red;\">0.51341712</span>  <span style=\"color: green;\">0.26359714</span>  <span style=\"color: blue;\">0.13533528</span>  0.06948345]\n",
    "[ 1.          0.96961883  0.93987471  0.91076764  0.88229764  0.85446469\n",
    "  0.82726879  0.80070995  0.77478817  0.74950344  0.72485577  0.70084515\n",
    "  0.67747159  0.65473509  0.63263564  0.61117324  0.59034791  0.57015963\n",
    "  0.5506084   0.53169423  <span style=\"color: red;\">0.51341712</span>  0.49577706  0.47877406  0.46240811\n",
    "  0.44667922  0.43158739  0.41713261  0.40331489  0.39013422  0.37759061\n",
    "  0.36568406  0.35423396  0.34305974  0.33216138  0.32153889  0.31119226\n",
    "  0.3011215   0.29132661  0.28180759  0.27256443  <span style=\"color: green;\">0.26359714</span>  0.25490571\n",
    "  0.24649016  0.23835047  0.23048665  0.22289869  0.2155866   0.20855038\n",
    "  0.20179003  0.19530554  0.18909692  0.18309568  0.17723335  0.17150993\n",
    "  0.16592541  0.16047979  0.15517308  0.15000527  0.14497637  0.14008638\n",
    "  <span style=\"color: blue;\">0.13533528</span>  0.1307231   0.12624981  0.12191544  0.11771996  0.1136634\n",
    "  0.10974573  0.10596697  0.10232712  0.09882617  0.09546413  0.09224099\n",
    "  0.08915675  0.08621142  0.083405    0.08073748  0.07820886  0.07581915\n",
    "  0.07356835  0.07145645]\n",
    "</pre>"
   ]
  },
  {
   "cell_type": "markdown",
   "metadata": {},
   "source": [
    "## Итог\n",
    "\n",
    "Мы с вами познакомились с библиотеками NumPy, Scripy, MatPlotLib. \n",
    "\n",
    "* NumPy нам предоставляет средства для высокопроизводительных вычислений\n",
    "* Scripy предоставляет некоторые более высокоуровневые вещи из математики\n",
    "* MatPlotLib позволяет все очень легко визуализировать"
   ]
  }
 ],
 "metadata": {
  "kernelspec": {
   "display_name": "Python 3",
   "language": "python",
   "name": "python3"
  },
  "language_info": {
   "codemirror_mode": {
    "name": "ipython",
    "version": 3
   },
   "file_extension": ".py",
   "mimetype": "text/x-python",
   "name": "python",
   "nbconvert_exporter": "python",
   "pygments_lexer": "ipython3",
   "version": "3.6.3"
  }
 },
 "nbformat": 4,
 "nbformat_minor": 2
}
